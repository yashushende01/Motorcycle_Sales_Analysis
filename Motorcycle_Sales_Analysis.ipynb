{
 "cells": [
  {
   "cell_type": "markdown",
   "id": "3cc93e85",
   "metadata": {},
   "source": [
    "# Motorcycle_Sales_Analysis"
   ]
  },
  {
   "cell_type": "markdown",
   "id": "037c0898",
   "metadata": {},
   "source": [
    "# importing Libraries"
   ]
  },
  {
   "cell_type": "code",
   "execution_count": 1,
   "id": "3562759a",
   "metadata": {},
   "outputs": [],
   "source": [
    "import numpy as np\n",
    "import pandas as pd \n",
    "import matplotlib.pyplot as plt\n",
    "import seaborn as sns"
   ]
  },
  {
   "cell_type": "markdown",
   "id": "77ca876d",
   "metadata": {},
   "source": [
    "# Load Dataset"
   ]
  },
  {
   "cell_type": "code",
   "execution_count": 2,
   "id": "a01e5f25",
   "metadata": {},
   "outputs": [
    {
     "data": {
      "text/html": [
       "<div>\n",
       "<style scoped>\n",
       "    .dataframe tbody tr th:only-of-type {\n",
       "        vertical-align: middle;\n",
       "    }\n",
       "\n",
       "    .dataframe tbody tr th {\n",
       "        vertical-align: top;\n",
       "    }\n",
       "\n",
       "    .dataframe thead th {\n",
       "        text-align: right;\n",
       "    }\n",
       "</style>\n",
       "<table border=\"1\" class=\"dataframe\">\n",
       "  <thead>\n",
       "    <tr style=\"text-align: right;\">\n",
       "      <th></th>\n",
       "      <th>date</th>\n",
       "      <th>warehouse</th>\n",
       "      <th>client_type</th>\n",
       "      <th>product_line</th>\n",
       "      <th>quantity</th>\n",
       "      <th>unit_price</th>\n",
       "      <th>total</th>\n",
       "      <th>payment</th>\n",
       "    </tr>\n",
       "  </thead>\n",
       "  <tbody>\n",
       "    <tr>\n",
       "      <th>0</th>\n",
       "      <td>2021-06-01</td>\n",
       "      <td>Central</td>\n",
       "      <td>Retail</td>\n",
       "      <td>Miscellaneous</td>\n",
       "      <td>8</td>\n",
       "      <td>16.85</td>\n",
       "      <td>134.83</td>\n",
       "      <td>Credit card</td>\n",
       "    </tr>\n",
       "    <tr>\n",
       "      <th>1</th>\n",
       "      <td>2021-06-01</td>\n",
       "      <td>North</td>\n",
       "      <td>Retail</td>\n",
       "      <td>Breaking system</td>\n",
       "      <td>9</td>\n",
       "      <td>19.29</td>\n",
       "      <td>173.61</td>\n",
       "      <td>Cash</td>\n",
       "    </tr>\n",
       "    <tr>\n",
       "      <th>2</th>\n",
       "      <td>2021-06-01</td>\n",
       "      <td>North</td>\n",
       "      <td>Retail</td>\n",
       "      <td>Suspension &amp; traction</td>\n",
       "      <td>8</td>\n",
       "      <td>32.93</td>\n",
       "      <td>263.45</td>\n",
       "      <td>Credit card</td>\n",
       "    </tr>\n",
       "    <tr>\n",
       "      <th>3</th>\n",
       "      <td>2021-06-01</td>\n",
       "      <td>North</td>\n",
       "      <td>Wholesale</td>\n",
       "      <td>Frame &amp; body</td>\n",
       "      <td>16</td>\n",
       "      <td>37.84</td>\n",
       "      <td>605.44</td>\n",
       "      <td>Transfer</td>\n",
       "    </tr>\n",
       "    <tr>\n",
       "      <th>4</th>\n",
       "      <td>2021-06-01</td>\n",
       "      <td>Central</td>\n",
       "      <td>Retail</td>\n",
       "      <td>Engine</td>\n",
       "      <td>2</td>\n",
       "      <td>60.48</td>\n",
       "      <td>120.96</td>\n",
       "      <td>Credit card</td>\n",
       "    </tr>\n",
       "    <tr>\n",
       "      <th>...</th>\n",
       "      <td>...</td>\n",
       "      <td>...</td>\n",
       "      <td>...</td>\n",
       "      <td>...</td>\n",
       "      <td>...</td>\n",
       "      <td>...</td>\n",
       "      <td>...</td>\n",
       "      <td>...</td>\n",
       "    </tr>\n",
       "    <tr>\n",
       "      <th>995</th>\n",
       "      <td>2021-08-28</td>\n",
       "      <td>Central</td>\n",
       "      <td>Retail</td>\n",
       "      <td>Electrical system</td>\n",
       "      <td>9</td>\n",
       "      <td>32.87</td>\n",
       "      <td>295.83</td>\n",
       "      <td>Credit card</td>\n",
       "    </tr>\n",
       "    <tr>\n",
       "      <th>996</th>\n",
       "      <td>2021-08-28</td>\n",
       "      <td>West</td>\n",
       "      <td>Wholesale</td>\n",
       "      <td>Breaking system</td>\n",
       "      <td>32</td>\n",
       "      <td>10.03</td>\n",
       "      <td>320.96</td>\n",
       "      <td>Transfer</td>\n",
       "    </tr>\n",
       "    <tr>\n",
       "      <th>997</th>\n",
       "      <td>2021-08-28</td>\n",
       "      <td>West</td>\n",
       "      <td>Wholesale</td>\n",
       "      <td>Electrical system</td>\n",
       "      <td>12</td>\n",
       "      <td>32.80</td>\n",
       "      <td>393.64</td>\n",
       "      <td>Transfer</td>\n",
       "    </tr>\n",
       "    <tr>\n",
       "      <th>998</th>\n",
       "      <td>2021-08-28</td>\n",
       "      <td>North</td>\n",
       "      <td>Retail</td>\n",
       "      <td>Frame &amp; body</td>\n",
       "      <td>5</td>\n",
       "      <td>48.25</td>\n",
       "      <td>241.23</td>\n",
       "      <td>Cash</td>\n",
       "    </tr>\n",
       "    <tr>\n",
       "      <th>999</th>\n",
       "      <td>2021-08-28</td>\n",
       "      <td>North</td>\n",
       "      <td>Wholesale</td>\n",
       "      <td>Electrical system</td>\n",
       "      <td>20</td>\n",
       "      <td>27.41</td>\n",
       "      <td>548.13</td>\n",
       "      <td>Transfer</td>\n",
       "    </tr>\n",
       "  </tbody>\n",
       "</table>\n",
       "<p>1000 rows × 8 columns</p>\n",
       "</div>"
      ],
      "text/plain": [
       "           date warehouse client_type           product_line  quantity  \\\n",
       "0    2021-06-01   Central      Retail          Miscellaneous         8   \n",
       "1    2021-06-01     North      Retail        Breaking system         9   \n",
       "2    2021-06-01     North      Retail  Suspension & traction         8   \n",
       "3    2021-06-01     North   Wholesale           Frame & body        16   \n",
       "4    2021-06-01   Central      Retail                 Engine         2   \n",
       "..          ...       ...         ...                    ...       ...   \n",
       "995  2021-08-28   Central      Retail      Electrical system         9   \n",
       "996  2021-08-28      West   Wholesale        Breaking system        32   \n",
       "997  2021-08-28      West   Wholesale      Electrical system        12   \n",
       "998  2021-08-28     North      Retail           Frame & body         5   \n",
       "999  2021-08-28     North   Wholesale      Electrical system        20   \n",
       "\n",
       "     unit_price   total      payment  \n",
       "0         16.85  134.83  Credit card  \n",
       "1         19.29  173.61         Cash  \n",
       "2         32.93  263.45  Credit card  \n",
       "3         37.84  605.44     Transfer  \n",
       "4         60.48  120.96  Credit card  \n",
       "..          ...     ...          ...  \n",
       "995       32.87  295.83  Credit card  \n",
       "996       10.03  320.96     Transfer  \n",
       "997       32.80  393.64     Transfer  \n",
       "998       48.25  241.23         Cash  \n",
       "999       27.41  548.13     Transfer  \n",
       "\n",
       "[1000 rows x 8 columns]"
      ]
     },
     "execution_count": 2,
     "metadata": {},
     "output_type": "execute_result"
    }
   ],
   "source": [
    "df=pd.read_csv(\"C:\\\\Users\\\\91772\\\\OneDrive\\\\Desktop\\\\Motorcycle sales analysis.csv\")\n",
    "df"
   ]
  },
  {
   "cell_type": "markdown",
   "id": "8dd6b28a",
   "metadata": {},
   "source": [
    "# overview of dataset\n",
    "\n",
    "- **Shape:** (1000, 8) → 1000 rows and 8 columns.\n",
    "# Columns:\n",
    "- **date:** Sales transaction date. (Object/String)\n",
    "- **warehouse:** Warehouse location where the sale occurred. (Object)\n",
    "- **client_type:** Type of client (Retail or Wholesale). (Object)\n",
    "- **product_line:** Category of motorcycle parts/products sold. (Object)\n",
    "- **quantity:** Number of units sold. (Integer)\n",
    "- **unit_price:** Price per unit. (Float)\n",
    "- **total:** Total sale amount. (Float)\n",
    "- **payment:** Payment method used (Credit card, Cash, Transfer). (Object)\n",
    "- **Missing Values:** No missing values in any column.\n",
    "# Data Types:\n",
    "- **Object (Strings):** date, warehouse, client_type, product_line, payment\n",
    "- **Numeric:** quantity, unit_price, total"
   ]
  },
  {
   "cell_type": "code",
   "execution_count": 3,
   "id": "252893f2",
   "metadata": {},
   "outputs": [
    {
     "data": {
      "text/html": [
       "<div>\n",
       "<style scoped>\n",
       "    .dataframe tbody tr th:only-of-type {\n",
       "        vertical-align: middle;\n",
       "    }\n",
       "\n",
       "    .dataframe tbody tr th {\n",
       "        vertical-align: top;\n",
       "    }\n",
       "\n",
       "    .dataframe thead th {\n",
       "        text-align: right;\n",
       "    }\n",
       "</style>\n",
       "<table border=\"1\" class=\"dataframe\">\n",
       "  <thead>\n",
       "    <tr style=\"text-align: right;\">\n",
       "      <th></th>\n",
       "      <th>date</th>\n",
       "      <th>warehouse</th>\n",
       "      <th>client_type</th>\n",
       "      <th>product_line</th>\n",
       "      <th>quantity</th>\n",
       "      <th>unit_price</th>\n",
       "      <th>total</th>\n",
       "      <th>payment</th>\n",
       "    </tr>\n",
       "  </thead>\n",
       "  <tbody>\n",
       "    <tr>\n",
       "      <th>0</th>\n",
       "      <td>2021-06-01</td>\n",
       "      <td>Central</td>\n",
       "      <td>Retail</td>\n",
       "      <td>Miscellaneous</td>\n",
       "      <td>8</td>\n",
       "      <td>16.85</td>\n",
       "      <td>134.83</td>\n",
       "      <td>Credit card</td>\n",
       "    </tr>\n",
       "    <tr>\n",
       "      <th>1</th>\n",
       "      <td>2021-06-01</td>\n",
       "      <td>North</td>\n",
       "      <td>Retail</td>\n",
       "      <td>Breaking system</td>\n",
       "      <td>9</td>\n",
       "      <td>19.29</td>\n",
       "      <td>173.61</td>\n",
       "      <td>Cash</td>\n",
       "    </tr>\n",
       "    <tr>\n",
       "      <th>2</th>\n",
       "      <td>2021-06-01</td>\n",
       "      <td>North</td>\n",
       "      <td>Retail</td>\n",
       "      <td>Suspension &amp; traction</td>\n",
       "      <td>8</td>\n",
       "      <td>32.93</td>\n",
       "      <td>263.45</td>\n",
       "      <td>Credit card</td>\n",
       "    </tr>\n",
       "    <tr>\n",
       "      <th>3</th>\n",
       "      <td>2021-06-01</td>\n",
       "      <td>North</td>\n",
       "      <td>Wholesale</td>\n",
       "      <td>Frame &amp; body</td>\n",
       "      <td>16</td>\n",
       "      <td>37.84</td>\n",
       "      <td>605.44</td>\n",
       "      <td>Transfer</td>\n",
       "    </tr>\n",
       "    <tr>\n",
       "      <th>4</th>\n",
       "      <td>2021-06-01</td>\n",
       "      <td>Central</td>\n",
       "      <td>Retail</td>\n",
       "      <td>Engine</td>\n",
       "      <td>2</td>\n",
       "      <td>60.48</td>\n",
       "      <td>120.96</td>\n",
       "      <td>Credit card</td>\n",
       "    </tr>\n",
       "  </tbody>\n",
       "</table>\n",
       "</div>"
      ],
      "text/plain": [
       "         date warehouse client_type           product_line  quantity  \\\n",
       "0  2021-06-01   Central      Retail          Miscellaneous         8   \n",
       "1  2021-06-01     North      Retail        Breaking system         9   \n",
       "2  2021-06-01     North      Retail  Suspension & traction         8   \n",
       "3  2021-06-01     North   Wholesale           Frame & body        16   \n",
       "4  2021-06-01   Central      Retail                 Engine         2   \n",
       "\n",
       "   unit_price   total      payment  \n",
       "0       16.85  134.83  Credit card  \n",
       "1       19.29  173.61         Cash  \n",
       "2       32.93  263.45  Credit card  \n",
       "3       37.84  605.44     Transfer  \n",
       "4       60.48  120.96  Credit card  "
      ]
     },
     "execution_count": 3,
     "metadata": {},
     "output_type": "execute_result"
    }
   ],
   "source": [
    "df.head()"
   ]
  },
  {
   "cell_type": "markdown",
   "id": "9d27b6a5",
   "metadata": {},
   "source": [
    "# Data Exploration"
   ]
  },
  {
   "cell_type": "code",
   "execution_count": 78,
   "id": "c09260a8",
   "metadata": {},
   "outputs": [
    {
     "data": {
      "text/plain": [
       "(1000, 8)"
      ]
     },
     "execution_count": 78,
     "metadata": {},
     "output_type": "execute_result"
    }
   ],
   "source": [
    "df.shape"
   ]
  },
  {
   "cell_type": "code",
   "execution_count": 4,
   "id": "ce909517",
   "metadata": {},
   "outputs": [
    {
     "name": "stdout",
     "output_type": "stream",
     "text": [
      "<class 'pandas.core.frame.DataFrame'>\n",
      "RangeIndex: 1000 entries, 0 to 999\n",
      "Data columns (total 8 columns):\n",
      " #   Column        Non-Null Count  Dtype  \n",
      "---  ------        --------------  -----  \n",
      " 0   date          1000 non-null   object \n",
      " 1   warehouse     1000 non-null   object \n",
      " 2   client_type   1000 non-null   object \n",
      " 3   product_line  1000 non-null   object \n",
      " 4   quantity      1000 non-null   int64  \n",
      " 5   unit_price    1000 non-null   float64\n",
      " 6   total         1000 non-null   float64\n",
      " 7   payment       1000 non-null   object \n",
      "dtypes: float64(2), int64(1), object(5)\n",
      "memory usage: 62.6+ KB\n"
     ]
    }
   ],
   "source": [
    "df.info()"
   ]
  },
  {
   "cell_type": "code",
   "execution_count": 29,
   "id": "29d07178",
   "metadata": {},
   "outputs": [
    {
     "data": {
      "text/plain": [
       "date             object\n",
       "warehouse        object\n",
       "client_type      object\n",
       "product_line     object\n",
       "quantity          int64\n",
       "unit_price      float64\n",
       "total           float64\n",
       "payment          object\n",
       "dtype: object"
      ]
     },
     "execution_count": 29,
     "metadata": {},
     "output_type": "execute_result"
    }
   ],
   "source": [
    "df.dtypes"
   ]
  },
  {
   "cell_type": "code",
   "execution_count": 5,
   "id": "ab81979b",
   "metadata": {},
   "outputs": [
    {
     "data": {
      "text/html": [
       "<div>\n",
       "<style scoped>\n",
       "    .dataframe tbody tr th:only-of-type {\n",
       "        vertical-align: middle;\n",
       "    }\n",
       "\n",
       "    .dataframe tbody tr th {\n",
       "        vertical-align: top;\n",
       "    }\n",
       "\n",
       "    .dataframe thead th {\n",
       "        text-align: right;\n",
       "    }\n",
       "</style>\n",
       "<table border=\"1\" class=\"dataframe\">\n",
       "  <thead>\n",
       "    <tr style=\"text-align: right;\">\n",
       "      <th></th>\n",
       "      <th>quantity</th>\n",
       "      <th>unit_price</th>\n",
       "      <th>total</th>\n",
       "    </tr>\n",
       "  </thead>\n",
       "  <tbody>\n",
       "    <tr>\n",
       "      <th>count</th>\n",
       "      <td>1000.000000</td>\n",
       "      <td>1000.000000</td>\n",
       "      <td>1000.000000</td>\n",
       "    </tr>\n",
       "    <tr>\n",
       "      <th>mean</th>\n",
       "      <td>9.395000</td>\n",
       "      <td>30.322040</td>\n",
       "      <td>289.113000</td>\n",
       "    </tr>\n",
       "    <tr>\n",
       "      <th>std</th>\n",
       "      <td>9.659207</td>\n",
       "      <td>12.256488</td>\n",
       "      <td>345.227596</td>\n",
       "    </tr>\n",
       "    <tr>\n",
       "      <th>min</th>\n",
       "      <td>1.000000</td>\n",
       "      <td>10.030000</td>\n",
       "      <td>10.350000</td>\n",
       "    </tr>\n",
       "    <tr>\n",
       "      <th>25%</th>\n",
       "      <td>4.000000</td>\n",
       "      <td>21.085000</td>\n",
       "      <td>93.687500</td>\n",
       "    </tr>\n",
       "    <tr>\n",
       "      <th>50%</th>\n",
       "      <td>6.500000</td>\n",
       "      <td>28.570000</td>\n",
       "      <td>178.360000</td>\n",
       "    </tr>\n",
       "    <tr>\n",
       "      <th>75%</th>\n",
       "      <td>10.000000</td>\n",
       "      <td>37.917500</td>\n",
       "      <td>321.690000</td>\n",
       "    </tr>\n",
       "    <tr>\n",
       "      <th>max</th>\n",
       "      <td>40.000000</td>\n",
       "      <td>66.620000</td>\n",
       "      <td>2546.330000</td>\n",
       "    </tr>\n",
       "  </tbody>\n",
       "</table>\n",
       "</div>"
      ],
      "text/plain": [
       "          quantity   unit_price        total\n",
       "count  1000.000000  1000.000000  1000.000000\n",
       "mean      9.395000    30.322040   289.113000\n",
       "std       9.659207    12.256488   345.227596\n",
       "min       1.000000    10.030000    10.350000\n",
       "25%       4.000000    21.085000    93.687500\n",
       "50%       6.500000    28.570000   178.360000\n",
       "75%      10.000000    37.917500   321.690000\n",
       "max      40.000000    66.620000  2546.330000"
      ]
     },
     "execution_count": 5,
     "metadata": {},
     "output_type": "execute_result"
    }
   ],
   "source": [
    "df.describe()"
   ]
  },
  {
   "cell_type": "code",
   "execution_count": 6,
   "id": "2ee0792e",
   "metadata": {},
   "outputs": [
    {
     "data": {
      "text/plain": [
       "date            0\n",
       "warehouse       0\n",
       "client_type     0\n",
       "product_line    0\n",
       "quantity        0\n",
       "unit_price      0\n",
       "total           0\n",
       "payment         0\n",
       "dtype: int64"
      ]
     },
     "execution_count": 6,
     "metadata": {},
     "output_type": "execute_result"
    }
   ],
   "source": [
    "df.isnull().sum()"
   ]
  },
  {
   "cell_type": "markdown",
   "id": "d1973212",
   "metadata": {},
   "source": [
    "# Analysis"
   ]
  },
  {
   "cell_type": "code",
   "execution_count": 11,
   "id": "5f8356b9",
   "metadata": {},
   "outputs": [
    {
     "name": "stdout",
     "output_type": "stream",
     "text": [
      "3\n",
      "['Central' 'North' 'West']\n"
     ]
    }
   ],
   "source": [
    "print(df['warehouse'].nunique())\n",
    "print(df['warehouse'].unique())"
   ]
  },
  {
   "cell_type": "code",
   "execution_count": 12,
   "id": "ef7e88a7",
   "metadata": {},
   "outputs": [
    {
     "name": "stdout",
     "output_type": "stream",
     "text": [
      "2\n",
      "['Retail' 'Wholesale']\n"
     ]
    }
   ],
   "source": [
    "print(df['client_type'].nunique())\n",
    "print(df['client_type'].unique())"
   ]
  },
  {
   "cell_type": "code",
   "execution_count": 75,
   "id": "606ad600",
   "metadata": {},
   "outputs": [
    {
     "name": "stdout",
     "output_type": "stream",
     "text": [
      "6\n",
      "['Miscellaneous' 'Breaking system' 'Suspension & traction' 'Frame & body'\n",
      " 'Engine' 'Electrical system']\n"
     ]
    }
   ],
   "source": [
    "print(df['product_line'].nunique())\n",
    "print(df['product_line'].unique())"
   ]
  },
  {
   "cell_type": "code",
   "execution_count": 76,
   "id": "67c18aea",
   "metadata": {},
   "outputs": [
    {
     "name": "stdout",
     "output_type": "stream",
     "text": [
      "3\n",
      "['Credit card' 'Cash' 'Transfer']\n"
     ]
    }
   ],
   "source": [
    "print(df['payment'].nunique())\n",
    "print(df['payment'].unique())"
   ]
  },
  {
   "cell_type": "code",
   "execution_count": 77,
   "id": "f18d9a23",
   "metadata": {},
   "outputs": [
    {
     "name": "stdout",
     "output_type": "stream",
     "text": [
      "89\n",
      "['2021-06-01' '2021-06-02' '2021-06-03' '2021-06-04' '2021-06-05'\n",
      " '2021-06-06' '2021-06-07' '2021-06-08' '2021-06-09' '2021-06-10'\n",
      " '2021-06-11' '2021-06-12' '2021-06-13' '2021-06-14' '2021-06-15'\n",
      " '2021-06-16' '2021-06-17' '2021-06-18' '2021-06-19' '2021-06-20'\n",
      " '2021-06-21' '2021-06-22' '2021-06-23' '2021-06-24' '2021-06-25'\n",
      " '2021-06-26' '2021-06-27' '2021-06-28' '2021-06-29' '2021-06-30'\n",
      " '2021-07-01' '2021-07-02' '2021-07-03' '2021-07-04' '2021-07-05'\n",
      " '2021-07-06' '2021-07-07' '2021-07-08' '2021-07-09' '2021-07-10'\n",
      " '2021-07-11' '2021-07-12' '2021-07-13' '2021-07-14' '2021-07-15'\n",
      " '2021-07-16' '2021-07-17' '2021-07-18' '2021-07-19' '2021-07-20'\n",
      " '2021-07-21' '2021-07-22' '2021-07-23' '2021-07-24' '2021-07-25'\n",
      " '2021-07-26' '2021-07-27' '2021-07-28' '2021-07-29' '2021-07-30'\n",
      " '2021-07-31' '2021-08-01' '2021-08-02' '2021-08-03' '2021-08-04'\n",
      " '2021-08-05' '2021-08-06' '2021-08-07' '2021-08-08' '2021-08-09'\n",
      " '2021-08-10' '2021-08-11' '2021-08-12' '2021-08-13' '2021-08-14'\n",
      " '2021-08-15' '2021-08-16' '2021-08-17' '2021-08-18' '2021-08-19'\n",
      " '2021-08-20' '2021-08-21' '2021-08-22' '2021-08-23' '2021-08-24'\n",
      " '2021-08-25' '2021-08-26' '2021-08-27' '2021-08-28']\n"
     ]
    }
   ],
   "source": [
    "print(df['date'].nunique())\n",
    "print(df['date'].unique())"
   ]
  },
  {
   "cell_type": "code",
   "execution_count": 80,
   "id": "7d68b58b",
   "metadata": {},
   "outputs": [
    {
     "data": {
      "text/plain": [
       "product_line\n",
       "Breaking system          230\n",
       "Suspension & traction    228\n",
       "Electrical system        193\n",
       "Frame & body             166\n",
       "Miscellaneous            122\n",
       "Engine                    61\n",
       "Name: count, dtype: int64"
      ]
     },
     "execution_count": 80,
     "metadata": {},
     "output_type": "execute_result"
    }
   ],
   "source": [
    "df['product_line'].value_counts()"
   ]
  },
  {
   "cell_type": "code",
   "execution_count": 87,
   "id": "25aeb04d",
   "metadata": {},
   "outputs": [
    {
     "data": {
      "text/plain": [
       "product_line\n",
       "Breaking system          Wholesale\n",
       "Electrical system        Wholesale\n",
       "Engine                   Wholesale\n",
       "Frame & body             Wholesale\n",
       "Miscellaneous            Wholesale\n",
       "Suspension & traction    Wholesale\n",
       "Name: client_type, dtype: object"
      ]
     },
     "execution_count": 87,
     "metadata": {},
     "output_type": "execute_result"
    }
   ],
   "source": [
    "df.groupby('product_line')['client_type'].max()"
   ]
  },
  {
   "cell_type": "code",
   "execution_count": 85,
   "id": "436e54af",
   "metadata": {},
   "outputs": [
    {
     "data": {
      "text/plain": [
       "product_line           client_type\n",
       "Breaking system        Retail         175\n",
       "                       Wholesale       55\n",
       "Electrical system      Retail         155\n",
       "                       Wholesale       38\n",
       "Engine                 Retail          48\n",
       "                       Wholesale       13\n",
       "Frame & body           Retail         128\n",
       "                       Wholesale       38\n",
       "Miscellaneous          Retail          92\n",
       "                       Wholesale       30\n",
       "Suspension & traction  Retail         177\n",
       "                       Wholesale       51\n",
       "Name: count, dtype: int64"
      ]
     },
     "execution_count": 85,
     "metadata": {},
     "output_type": "execute_result"
    }
   ],
   "source": [
    "df.groupby('product_line')['client_type'].value_counts()"
   ]
  },
  {
   "cell_type": "code",
   "execution_count": 113,
   "id": "d885ab03",
   "metadata": {},
   "outputs": [
    {
     "data": {
      "text/plain": [
       "product_line\n",
       "Breaking system          2130\n",
       "Electrical system        1698\n",
       "Engine                    627\n",
       "Frame & body             1619\n",
       "Miscellaneous            1176\n",
       "Suspension & traction    2145\n",
       "Name: quantity, dtype: int64"
      ]
     },
     "execution_count": 113,
     "metadata": {},
     "output_type": "execute_result"
    }
   ],
   "source": [
    "df.groupby('product_line')['quantity'].sum()"
   ]
  },
  {
   "cell_type": "code",
   "execution_count": 91,
   "id": "8c015747",
   "metadata": {},
   "outputs": [
    {
     "data": {
      "text/plain": [
       "product_line           payment    \n",
       "Breaking system        Credit card    150\n",
       "                       Transfer        55\n",
       "                       Cash            25\n",
       "Electrical system      Credit card    131\n",
       "                       Transfer        38\n",
       "                       Cash            24\n",
       "Engine                 Credit card     42\n",
       "                       Transfer        13\n",
       "                       Cash             6\n",
       "Frame & body           Credit card    109\n",
       "                       Transfer        38\n",
       "                       Cash            19\n",
       "Miscellaneous          Credit card     74\n",
       "                       Transfer        30\n",
       "                       Cash            18\n",
       "Suspension & traction  Credit card    153\n",
       "                       Transfer        51\n",
       "                       Cash            24\n",
       "Name: count, dtype: int64"
      ]
     },
     "execution_count": 91,
     "metadata": {},
     "output_type": "execute_result"
    }
   ],
   "source": [
    "df.groupby('product_line')['payment'].value_counts()"
   ]
  },
  {
   "cell_type": "code",
   "execution_count": 95,
   "id": "2a2bf940",
   "metadata": {},
   "outputs": [
    {
     "data": {
      "text/plain": [
       "<Axes: ylabel='quantity'>"
      ]
     },
     "execution_count": 95,
     "metadata": {},
     "output_type": "execute_result"
    },
    {
     "data": {
      "image/png": "[encoded data removed]",
      "text/plain": [
       "<Figure size 640x480 with 1 Axes>"
      ]
     },
     "metadata": {},
     "output_type": "display_data"
    }
   ],
   "source": [
    "df.groupby('product_line')['quantity'].max().plot(kind='pie',autopct='%.2ff%%')"
   ]
  },
  {
   "cell_type": "markdown",
   "id": "d39870f6",
   "metadata": {},
   "source": [
    "# The chart represents the maximum quantity sold in a single transaction for each product line. \n",
    "\n",
    "**1 Some product lines have higher peaks**\n",
    "- A few categories have larger maximum sales per transaction, meaning at some point, a significant quantity of that product was sold in a single order.\n",
    "\n",
    "**2 Product demand varies**\n",
    "- Some product lines might have a higher number of transactions but with smaller individual order sizes, while others may have fewer transactions but larger individual orders.\n",
    "\n",
    "**3 Potential bulk purchases**\n",
    "- If one product line shows a very high max quantity, it could indicate bulk purchases, likely from wholesale clients."
   ]
  },
  {
   "cell_type": "code",
   "execution_count": 98,
   "id": "b79b8ee5",
   "metadata": {},
   "outputs": [
    {
     "name": "stderr",
     "output_type": "stream",
     "text": [
      "C:\\Users\\91772\\AppData\\Local\\Temp\\ipykernel_16056\\3591292432.py:3: FutureWarning: \n",
      "\n",
      "Passing `palette` without assigning `hue` is deprecated and will be removed in v0.14.0. Assign the `x` variable to `hue` and set `legend=False` for the same effect.\n",
      "\n",
      "  A = sns.countplot(x=df[\"client_type\"], palette=\"Set1\")\n"
     ]
    },
    {
     "data": {
      "image/png": "[encoded data removed]",
      "text/plain": [
       "<Figure size 700x500 with 1 Axes>"
      ]
     },
     "metadata": {},
     "output_type": "display_data"
    }
   ],
   "source": [
    "plt.figure(figsize=(7, 5))\n",
    "\n",
    "A = sns.countplot(x=df[\"client_type\"], palette=\"Set1\")\n",
    "for i in A.containers:\n",
    "    A.bar_label(i)\n",
    "    \n",
    "plt.title(\"Distribution of client_type\")\n",
    "plt.xlabel(\"client_type\")\n",
    "plt.ylabel(\"Count\")\n",
    "plt.show()"
   ]
  },
  {
   "cell_type": "markdown",
   "id": "910d2a6d",
   "metadata": {},
   "source": [
    "# Trends:\n",
    "- If Retail has a higher count, it means more individual customers make purchases.\n",
    "- If Wholesale dominates, bulk purchases from businesses might drive sales."
   ]
  },
  {
   "cell_type": "code",
   "execution_count": 99,
   "id": "6b42ecb3",
   "metadata": {},
   "outputs": [
    {
     "name": "stderr",
     "output_type": "stream",
     "text": [
      "C:\\Users\\91772\\AppData\\Local\\Temp\\ipykernel_16056\\3426117821.py:3: FutureWarning: \n",
      "\n",
      "Passing `palette` without assigning `hue` is deprecated and will be removed in v0.14.0. Assign the `x` variable to `hue` and set `legend=False` for the same effect.\n",
      "\n",
      "  A = sns.countplot(x=df[\"warehouse\"], palette=\"Set1\")\n"
     ]
    },
    {
     "data": {
      "image/png": "[encoded data removed]",
      "text/plain": [
       "<Figure size 700x500 with 1 Axes>"
      ]
     },
     "metadata": {},
     "output_type": "display_data"
    }
   ],
   "source": [
    "plt.figure(figsize=(7, 5))\n",
    "\n",
    "A = sns.countplot(x=df[\"warehouse\"], palette=\"Set1\")\n",
    "for i in A.containers:\n",
    "    A.bar_label(i)\n",
    "plt.xlabel(\"warehouse\")\n",
    "plt.ylabel(\"Count\")\n",
    "plt.show()"
   ]
  },
  {
   "cell_type": "markdown",
   "id": "7853d1f0",
   "metadata": {},
   "source": [
    "# Insights from the Chart:\n",
    "**1 Warehouse Activity Comparison:**\n",
    "- The chart shows which warehouse processed the most sales.\n",
    "- Taller bars indicate higher transaction counts.\n",
    "\n",
    "**2 Operational Insights:**\n",
    "- A warehouse with significantly higher sales might be a key hub.\n",
    "- A lower transaction count in a warehouse could indicate lower demand or stock availability issues.\n",
    "\n",
    "**3 Bar Labels:**\n",
    "- The exact transaction count for each warehouse is displayed on the bars for clarity.# "
   ]
  },
  {
   "cell_type": "code",
   "execution_count": 112,
   "id": "c25406fb",
   "metadata": {},
   "outputs": [
    {
     "data": {
      "image/png": "[encoded data removed]",
      "text/plain": [
       "<Figure size 1000x600 with 2 Axes>"
      ]
     },
     "metadata": {},
     "output_type": "display_data"
    }
   ],
   "source": [
    "# Group by product line and warehouse, then count occurrences\n",
    "data = df.groupby(['product_line', 'warehouse']).size().unstack(fill_value=0.5)\n",
    "\n",
    "# Plot heatmap\n",
    "plt.figure(figsize=(10, 6))\n",
    "sns.heatmap(data, annot=True, cmap='coolwarm', linewidths=0.5)\n",
    "plt.title('Warehouse Distribution by Product Line')\n",
    "plt.xlabel('Warehouse')\n",
    "plt.ylabel('Product Line')\n",
    "plt.yticks(rotation=0)\n",
    "plt.show()"
   ]
  },
  {
   "cell_type": "code",
   "execution_count": 90,
   "id": "2d507434",
   "metadata": {},
   "outputs": [
    {
     "data": {
      "image/png": "[encoded data removed]",
      "text/plain": [
       "<Figure size 600x600 with 1 Axes>"
      ]
     },
     "metadata": {},
     "output_type": "display_data"
    }
   ],
   "source": [
    "plt.figure(figsize=(6, 6))\n",
    "df['payment'].value_counts().plot(kind='pie', autopct='%1.1f%%', startangle=90, cmap='Set2')\n",
    "plt.title('Payment Method Distribution')\n",
    "plt.show()"
   ]
  },
  {
   "cell_type": "markdown",
   "id": "4809d33b",
   "metadata": {},
   "source": [
    "# Purpose:\n",
    "Shows the distribution of different payment methods used in sales transactions."
   ]
  },
  {
   "cell_type": "markdown",
   "id": "581e2cf3",
   "metadata": {},
   "source": [
    "# Conclusion of the Motorcycle Sales Analysis\n",
    "**1 Sales & Product Trends:**\n",
    "\n",
    "The Breaking System and Suspension & Traction categories had the highest sales.\n",
    "Some product lines had higher maximum quantity orders, indicating potential bulk purchases.\n",
    "\n",
    "**2 Warehouse Performance:**\n",
    "\n",
    "Certain warehouses handled higher sales volumes, possibly acting as key distribution hubs.\n",
    "Some warehouses had low sales for specific products, suggesting potential inventory imbalances or regional demand variations.\n",
    "\n",
    "**3 Client Type Distribution:**\n",
    "\n",
    "Retail clients had a higher number of transactions compared to wholesale clients, suggesting a customer-driven market.\n",
    "Wholesale clients tended to purchase in larger quantities per order.\n",
    "\n",
    "**4 Payment Preferences:**\n",
    "\n",
    "A dominant payment method (e.g., Credit Card or Cash) suggests strong customer preference.\n",
    "Other payment methods were less utilized, indicating room for business strategy adjustments."
   ]
  },
  {
   "cell_type": "code",
   "execution_count": null,
   "id": "b1364a6f",
   "metadata": {},
   "outputs": [],
   "source": []
  }
 ],
 "metadata": {
  "kernelspec": {
   "display_name": "Python 3 (ipykernel)",
   "language": "python",
   "name": "python3"
  },
  "language_info": {
   "codemirror_mode": {
    "name": "ipython",
    "version": 3
   },
   "file_extension": ".py",
   "mimetype": "text/x-python",
   "name": "python",
   "nbconvert_exporter": "python",
   "pygments_lexer": "ipython3",
   "version": "3.12.1"
  }
 },
 "nbformat": 4,
 "nbformat_minor": 5
}
